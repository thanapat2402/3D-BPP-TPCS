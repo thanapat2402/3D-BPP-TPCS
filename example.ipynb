{
 "cells": [
  {
   "cell_type": "code",
<<<<<<< Updated upstream
   "execution_count": 43,
=======
   "execution_count": 9,
>>>>>>> Stashed changes
   "metadata": {},
   "outputs": [],
   "source": [
    "%run ./packer.ipynb"
   ]
  },
  {
   "cell_type": "code",
<<<<<<< Updated upstream
   "execution_count": 44,
=======
   "execution_count": 10,
>>>>>>> Stashed changes
   "metadata": {},
   "outputs": [
    {
     "name": "stdout",
     "output_type": "stream",
     "text": [
      "\n",
      "Bin that can handle all items: \n",
<<<<<<< Updated upstream
      "2D ฉ shops dimension H \n",
      "----------------------------------\n",
      "\n",
      "\n",
      "::::::::::: 2D(35.000x22.000x28.000, max_weight:100.000) vol(21560.000) item_number(10) filling_ratio(0.710)\n",
      "FITTED ITEMS:\n",
      "====>  Level1(18.000x10.000x8.500, weight: 1.000) pos([0, 0, 0]) rt(HLW) vol(1530.000)\n",
      "====>  Level1(18.000x10.000x8.500, weight: 1.000) pos([Decimal('8.500'), 0, 0]) rt(WHL) vol(1530.000)\n",
      "====>  Level1(18.000x10.000x8.500, weight: 1.000) pos([0, Decimal('10.000'), 0]) rt(HLW) vol(1530.000)\n",
      "====>  Level1(18.000x10.000x8.500, weight: 1.000) pos([0, 0, Decimal('18.000')]) rt(HLW) vol(1530.000)\n",
      "====>  Level1(18.000x10.000x8.500, weight: 1.000) pos([Decimal('18.500'), 0, 0]) rt(LHW) vol(1530.000)\n",
      "====>  Level1(18.000x10.000x8.500, weight: 1.000) pos([0, Decimal('28.000'), 0]) rt(HLW) vol(1530.000)\n",
      "====>  Level1(18.000x10.000x8.500, weight: 1.000) pos([Decimal('36.500'), 0, 0]) rt(HLW) vol(1530.000)\n",
      "====>  Level1(18.000x10.000x8.500, weight: 1.000) pos([Decimal('8.500'), Decimal('8.500'), 0]) rt(LWH) vol(1530.000)\n",
      "====>  Level1(18.000x10.000x8.500, weight: 1.000) pos([Decimal('8.500'), Decimal('8.500'), Decimal('8.500')]) rt(WHL) vol(1530.000)\n",
      "====>  Level1(18.000x10.000x8.500, weight: 1.000) pos([Decimal('8.500'), Decimal('17.000'), Decimal('8.500')]) rt(HLW) vol(1530.000)\n",
=======
      "ฉ ฉ shops dimension H \n",
      "----------------------------------\n",
      "\n",
      "\n",
      "::::::::::: ฉ(44.300x27.000x21.000, max_weight:100.000) vol(25118.100) item_number(8) filling_ratio(0.604)\n",
      "FITTED ITEMS:\n",
      "====>  Level3(18.200x10.200x10.500, weight: 1.000) pos([0, 0, 0]) rt(WHL) vol(1949.220)\n",
      "====>  Level3(18.200x10.200x10.500, weight: 1.000) pos([Decimal('10.200'), 0, 0]) rt(LWH) vol(1949.220)\n",
      "====>  Level3(18.200x10.200x10.500, weight: 1.000) pos([0, Decimal('10.500'), 0]) rt(WLH) vol(1949.220)\n",
      "====>  Level3(18.200x10.200x10.500, weight: 1.000) pos([0, 0, Decimal('18.200')]) rt(WLH) vol(1949.220)\n",
      "====>  Level3(18.200x10.200x10.500, weight: 1.000) pos([Decimal('28.400'), 0, 0]) rt(HLW) vol(1949.220)\n",
      "====>  Level3(18.200x10.200x10.500, weight: 1.000) pos([0, Decimal('28.700'), 0]) rt(WHL) vol(1949.220)\n",
      "====>  Level3(18.200x10.200x10.500, weight: 1.000) pos([Decimal('10.200'), Decimal('10.200'), 0]) rt(HLW) vol(1949.220)\n",
      "====>  Level2(18.000x10.000x8.500, weight: 1.000) pos([Decimal('10.200'), Decimal('10.200'), Decimal('10.200')]) rt(HLW) vol(1530.000)\n",
>>>>>>> Stashed changes
      "\n",
      "UNFITTED ITEMS:\n",
      "\n",
      "----------------------------------\n",
      "\n",
      "\n",
<<<<<<< Updated upstream
      "::::::::::: ฉ shops dimension(45.300x30.300x22.000, max_weight:100.000) vol(30196.980) item_number(10) filling_ratio(0.507)\n",
      "FITTED ITEMS:\n",
      "====>  Level1(18.000x10.000x8.500, weight: 1.000) pos([0, 0, 0]) rt(HLW) vol(1530.000)\n",
      "====>  Level1(18.000x10.000x8.500, weight: 1.000) pos([Decimal('8.500'), 0, 0]) rt(WHL) vol(1530.000)\n",
      "====>  Level1(18.000x10.000x8.500, weight: 1.000) pos([0, Decimal('10.000'), 0]) rt(HLW) vol(1530.000)\n",
      "====>  Level1(18.000x10.000x8.500, weight: 1.000) pos([0, 0, Decimal('18.000')]) rt(HLW) vol(1530.000)\n",
      "====>  Level1(18.000x10.000x8.500, weight: 1.000) pos([Decimal('18.500'), 0, 0]) rt(LHW) vol(1530.000)\n",
      "====>  Level1(18.000x10.000x8.500, weight: 1.000) pos([0, Decimal('28.000'), 0]) rt(HLW) vol(1530.000)\n",
      "====>  Level1(18.000x10.000x8.500, weight: 1.000) pos([Decimal('36.500'), 0, 0]) rt(HLW) vol(1530.000)\n",
      "====>  Level1(18.000x10.000x8.500, weight: 1.000) pos([Decimal('8.500'), Decimal('8.500'), 0]) rt(LWH) vol(1530.000)\n",
      "====>  Level1(18.000x10.000x8.500, weight: 1.000) pos([Decimal('8.500'), Decimal('8.500'), Decimal('8.500')]) rt(WHL) vol(1530.000)\n",
      "====>  Level1(18.000x10.000x8.500, weight: 1.000) pos([Decimal('8.500'), Decimal('17.000'), Decimal('8.500')]) rt(HLW) vol(1530.000)\n",
=======
      "::::::::::: ฉ shops dimension(45.300x30.300x22.000, max_weight:100.000) vol(30196.980) item_number(8) filling_ratio(0.503)\n",
      "FITTED ITEMS:\n",
      "====>  Level3(18.200x10.200x10.500, weight: 1.000) pos([0, 0, 0]) rt(WHL) vol(1949.220)\n",
      "====>  Level3(18.200x10.200x10.500, weight: 1.000) pos([Decimal('10.200'), 0, 0]) rt(LWH) vol(1949.220)\n",
      "====>  Level3(18.200x10.200x10.500, weight: 1.000) pos([0, Decimal('10.500'), 0]) rt(WLH) vol(1949.220)\n",
      "====>  Level3(18.200x10.200x10.500, weight: 1.000) pos([0, 0, Decimal('18.200')]) rt(WLH) vol(1949.220)\n",
      "====>  Level3(18.200x10.200x10.500, weight: 1.000) pos([Decimal('28.400'), 0, 0]) rt(HLW) vol(1949.220)\n",
      "====>  Level3(18.200x10.200x10.500, weight: 1.000) pos([0, Decimal('28.700'), 0]) rt(WHL) vol(1949.220)\n",
      "====>  Level3(18.200x10.200x10.500, weight: 1.000) pos([Decimal('10.200'), Decimal('10.200'), 0]) rt(HLW) vol(1949.220)\n",
      "====>  Level2(18.000x10.000x8.500, weight: 1.000) pos([Decimal('10.200'), Decimal('10.200'), Decimal('10.200')]) rt(HLW) vol(1530.000)\n",
>>>>>>> Stashed changes
      "\n",
      "UNFITTED ITEMS:\n",
      "\n",
      "----------------------------------\n",
      "\n",
      "\n",
<<<<<<< Updated upstream
      "::::::::::: H(45.000x40.000x35.000, max_weight:100.000) vol(63000.000) item_number(10) filling_ratio(0.243)\n",
      "FITTED ITEMS:\n",
      "====>  Level1(18.000x10.000x8.500, weight: 1.000) pos([0, 0, 0]) rt(HLW) vol(1530.000)\n",
      "====>  Level1(18.000x10.000x8.500, weight: 1.000) pos([Decimal('8.500'), 0, 0]) rt(WHL) vol(1530.000)\n",
      "====>  Level1(18.000x10.000x8.500, weight: 1.000) pos([0, Decimal('10.000'), 0]) rt(HLW) vol(1530.000)\n",
      "====>  Level1(18.000x10.000x8.500, weight: 1.000) pos([0, 0, Decimal('18.000')]) rt(HLW) vol(1530.000)\n",
      "====>  Level1(18.000x10.000x8.500, weight: 1.000) pos([Decimal('18.500'), 0, 0]) rt(LHW) vol(1530.000)\n",
      "====>  Level1(18.000x10.000x8.500, weight: 1.000) pos([0, Decimal('28.000'), 0]) rt(HLW) vol(1530.000)\n",
      "====>  Level1(18.000x10.000x8.500, weight: 1.000) pos([Decimal('36.500'), 0, 0]) rt(HLW) vol(1530.000)\n",
      "====>  Level1(18.000x10.000x8.500, weight: 1.000) pos([Decimal('8.500'), Decimal('8.500'), 0]) rt(LWH) vol(1530.000)\n",
      "====>  Level1(18.000x10.000x8.500, weight: 1.000) pos([Decimal('8.500'), Decimal('8.500'), Decimal('8.500')]) rt(WHL) vol(1530.000)\n",
      "====>  Level1(18.000x10.000x8.500, weight: 1.000) pos([Decimal('8.500'), Decimal('17.000'), Decimal('8.500')]) rt(HLW) vol(1530.000)\n",
=======
      "::::::::::: H(45.000x40.000x35.000, max_weight:100.000) vol(63000.000) item_number(8) filling_ratio(0.241)\n",
      "FITTED ITEMS:\n",
      "====>  Level3(18.200x10.200x10.500, weight: 1.000) pos([0, 0, 0]) rt(WHL) vol(1949.220)\n",
      "====>  Level3(18.200x10.200x10.500, weight: 1.000) pos([Decimal('10.200'), 0, 0]) rt(LWH) vol(1949.220)\n",
      "====>  Level3(18.200x10.200x10.500, weight: 1.000) pos([0, Decimal('10.500'), 0]) rt(WLH) vol(1949.220)\n",
      "====>  Level3(18.200x10.200x10.500, weight: 1.000) pos([0, 0, Decimal('18.200')]) rt(WLH) vol(1949.220)\n",
      "====>  Level3(18.200x10.200x10.500, weight: 1.000) pos([Decimal('28.400'), 0, 0]) rt(HLW) vol(1949.220)\n",
      "====>  Level3(18.200x10.200x10.500, weight: 1.000) pos([0, Decimal('28.700'), 0]) rt(WHL) vol(1949.220)\n",
      "====>  Level3(18.200x10.200x10.500, weight: 1.000) pos([Decimal('10.200'), Decimal('10.200'), 0]) rt(HLW) vol(1949.220)\n",
      "====>  Level2(18.000x10.000x8.500, weight: 1.000) pos([Decimal('10.200'), Decimal('10.200'), Decimal('10.200')]) rt(HLW) vol(1530.000)\n",
>>>>>>> Stashed changes
      "\n",
      "UNFITTED ITEMS:\n",
      "\n",
      "----------------------------------\n",
      "\n"
     ]
    }
   ],
   "source": [
    "packer = Packer()\n",
    "\n",
    "packer.add_bin(Bin('B', 25.0, 17.0, 9, 100))\n",
    "packer.add_bin(Bin('2B', 25.0, 17.0, 18, 100))\n",
    "packer.add_bin(Bin('C', 30, 20, 11, 100))\n",
    "packer.add_bin(Bin('2C', 30, 20, 22, 100))\n",
    "packer.add_bin(Bin('D', 35, 22, 14, 100))\n",
    "packer.add_bin(Bin('2D', 35, 22, 28, 100))\n",
    "packer.add_bin(Bin('E', 40, 24, 17, 100))\n",
    "# packer.add_bin(Bin('ฉ', 44.3, 27.0, 21.0, 100))\n",
    "packer.add_bin(Bin('ฉ shops dimension', 45.3, 30.3, 22, 100))\n",
    "\n",
    "###! WF99 11 items\n",
    "# packer.add_bin(Bin('ฉ WF99', 45.3, 30.3, 22, 100))\n",
    "\n",
    "##! level3 12 items\n",
    "# packer.add_bin(Bin('ฉ level3', 45.3, 30.9, 22, 100))\n",
    "\n",
    "packer.add_bin(Bin('H', 45, 40, 35, 100))\n",
    "\n",
    "def addItem(level1:int,level2:int,level3:int,wf99:int):\n",
    "    for x in range(level1):\n",
    "        packer.add_item(Item('Level1', 18.0, 10.0, 8.5, 1))\n",
    "\n",
    "    for x in range(level2):\n",
    "        packer.add_item(Item('Level2', 18.0, 10.0, 8.5, 1))\n",
    "\n",
    "    for x in range(level3):\n",
    "        packer.add_item(Item('Level3', 18.2, 10.2, 10.5, 1))\n",
    "\n",
    "    for x in range(wf99):\n",
    "        packer.add_item(Item('WF99', 21.8, 8.2, 12.5, 1))\n",
    "\n",
<<<<<<< Updated upstream
    "addItem(10,0,0,0)\n",
=======
    "addItem(0,1,7,0)\n",
>>>>>>> Stashed changes
    "  \n",
    "packer.pack()"
   ]
  }
 ],
 "metadata": {
  "kernelspec": {
   "display_name": "Python 3.10.0 64-bit",
   "language": "python",
   "name": "python3"
  },
  "language_info": {
   "codemirror_mode": {
    "name": "ipython",
    "version": 3
   },
   "file_extension": ".py",
   "mimetype": "text/x-python",
   "name": "python",
   "nbconvert_exporter": "python",
   "pygments_lexer": "ipython3",
   "version": "3.10.0"
  },
  "vscode": {
   "interpreter": {
    "hash": "afb734500600fd355917ca529030176ea0ca205570884b88f2f6f7d791fd3fbe"
   }
  }
 },
 "nbformat": 4,
 "nbformat_minor": 4
}
