{
 "cells": [
  {
   "cell_type": "code",
   "execution_count": 5,
   "metadata": {},
   "outputs": [],
   "source": [
    "%run ./packer.ipynb\n",
    "from item import Item\n",
    "from bin import Bin"
   ]
  },
  {
   "cell_type": "code",
   "execution_count": 6,
   "metadata": {},
   "outputs": [
    {
     "name": "stdout",
     "output_type": "stream",
     "text": [
      "\n",
      "Bin that can handle all items: \n",
      "ฉ shops dimension H \n",
      "----------------------------------\n",
      "\n",
      "\n",
      "::::::::::: ฉ shops dimension(453x303x220) vol(30196980) item_number(16) filling_ratio(0.8106770941994862)\n",
      "FITTED ITEMS:\n",
      "====>  Level1(180x100x85,) pos([0, 0, 0]) rt(HLW) vol(1530000)\n",
      "====>  Level1(180x100x85,) pos([85, 0, 0]) rt(WHL) vol(1530000)\n",
      "====>  Level1(180x100x85,) pos([0, 100, 0]) rt(HLW) vol(1530000)\n",
      "====>  Level1(180x100x85,) pos([0, 0, 180]) rt(HLW) vol(1530000)\n",
      "====>  Level1(180x100x85,) pos([185, 0, 0]) rt(LHW) vol(1530000)\n",
      "====>  Level1(180x100x85,) pos([0, 280, 0]) rt(HLW) vol(1530000)\n",
      "====>  Level1(180x100x85,) pos([365, 0, 0]) rt(HLW) vol(1530000)\n",
      "====>  Level1(180x100x85,) pos([85, 85, 0]) rt(LWH) vol(1530000)\n",
      "====>  Level1(180x100x85,) pos([85, 85, 85]) rt(WHL) vol(1530000)\n",
      "====>  Level1(180x100x85,) pos([85, 170, 85]) rt(HLW) vol(1530000)\n",
      "====>  Level1(180x100x85,) pos([185, 85, 85]) rt(LHW) vol(1530000)\n",
      "====>  Level1(180x100x85,) pos([0, 0, 0]) rt(LWH) vol(1530000)\n",
      "====>  Level1(180x100x85,) pos([0, 0, 0]) rt(LWH) vol(1530000)\n",
      "====>  Level1(180x100x85,) pos([0, 0, 0]) rt(LWH) vol(1530000)\n",
      "====>  Level1(180x100x85,) pos([0, 0, 0]) rt(LWH) vol(1530000)\n",
      "====>  Level1(180x100x85,) pos([0, 0, 0]) rt(LWH) vol(1530000)\n",
      "\n",
      "----------------------------------\n",
      "\n",
      "\n",
      "::::::::::: H(450x400x350) vol(63000000) item_number(16) filling_ratio(0.38857142857142857)\n",
      "FITTED ITEMS:\n",
      "====>  Level1(180x100x85,) pos([0, 0, 0]) rt(HLW) vol(1530000)\n",
      "====>  Level1(180x100x85,) pos([85, 0, 0]) rt(WHL) vol(1530000)\n",
      "====>  Level1(180x100x85,) pos([0, 100, 0]) rt(HLW) vol(1530000)\n",
      "====>  Level1(180x100x85,) pos([0, 0, 180]) rt(HLW) vol(1530000)\n",
      "====>  Level1(180x100x85,) pos([185, 0, 0]) rt(LHW) vol(1530000)\n",
      "====>  Level1(180x100x85,) pos([0, 280, 0]) rt(HLW) vol(1530000)\n",
      "====>  Level1(180x100x85,) pos([365, 0, 0]) rt(HLW) vol(1530000)\n",
      "====>  Level1(180x100x85,) pos([85, 85, 0]) rt(LWH) vol(1530000)\n",
      "====>  Level1(180x100x85,) pos([85, 85, 85]) rt(WHL) vol(1530000)\n",
      "====>  Level1(180x100x85,) pos([85, 170, 85]) rt(HLW) vol(1530000)\n",
      "====>  Level1(180x100x85,) pos([185, 85, 85]) rt(LHW) vol(1530000)\n",
      "====>  Level1(180x100x85,) pos([0, 0, 0]) rt(LWH) vol(1530000)\n",
      "====>  Level1(180x100x85,) pos([0, 0, 0]) rt(LWH) vol(1530000)\n",
      "====>  Level1(180x100x85,) pos([0, 0, 0]) rt(LWH) vol(1530000)\n",
      "====>  Level1(180x100x85,) pos([0, 0, 0]) rt(LWH) vol(1530000)\n",
      "====>  Level1(180x100x85,) pos([0, 0, 0]) rt(LWH) vol(1530000)\n",
      "\n",
      "----------------------------------\n",
      "\n"
     ]
    }
   ],
   "source": [
    "packer = Packer()\n",
    "\n",
    "packer.add_bin(Bin('B', 250, 170, 90))\n",
    "packer.add_bin(Bin('2B', 250, 170, 180))\n",
    "packer.add_bin(Bin('C', 300, 200, 110))\n",
    "packer.add_bin(Bin('2C', 300, 200, 220))\n",
    "packer.add_bin(Bin('D', 350, 220, 140))\n",
    "packer.add_bin(Bin('2D', 350, 220, 280))\n",
    "packer.add_bin(Bin('E', 400, 240, 170))\n",
    "# packer.add_bin(Bin('ฉ', 443, 270, 210))\n",
    "packer.add_bin(Bin('ฉ shops dimension', 453, 303, 220))\n",
    "###! WF99 11 items\n",
    "# packer.add_bin(Bin('ฉ WF99', 453, 303, 220))\n",
    "\n",
    "##! level3 12 items\n",
    "# packer.add_bin(Bin('ฉ level3', 453, 309, 220))\n",
    "\n",
    "packer.add_bin(Bin('H', 450, 400, 350))\n",
    "\n",
    "def addItem(level1:int,level2:int,level3:int,wf99:int):\n",
    "    for x in range(level1):\n",
    "        packer.add_item(Item('Level1', 180, 100, 85))\n",
    "\n",
    "    for x in range(level2):\n",
    "        packer.add_item(Item('Level2', 180, 100, 85))\n",
    "\n",
    "    for x in range(level3):\n",
    "        packer.add_item(Item('Level3', 182, 102, 105))\n",
    "\n",
    "    for x in range(wf99):\n",
    "        packer.add_item(Item('WF99', 218, 82, 125))\n",
    "\n",
    "addItem(16,0,0,0)\n",
    "\n",
    "packer.pack()"
   ]
  }
 ],
 "metadata": {
  "kernelspec": {
   "display_name": "base",
   "language": "python",
   "name": "python3"
  },
  "language_info": {
   "codemirror_mode": {
    "name": "ipython",
    "version": 3
   },
   "file_extension": ".py",
   "mimetype": "text/x-python",
   "name": "python",
   "nbconvert_exporter": "python",
   "pygments_lexer": "ipython3",
   "version": "3.9.12 (main, Apr  4 2022, 05:22:27) [MSC v.1916 64 bit (AMD64)]"
  },
  "vscode": {
   "interpreter": {
    "hash": "b9f9d1caeec4bc737af1d6cb0053b2d4ea85c807726bb496dfd902b7505d0d0e"
   }
  }
 },
 "nbformat": 4,
 "nbformat_minor": 4
}
