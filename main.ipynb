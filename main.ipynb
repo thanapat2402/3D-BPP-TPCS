{
 "cells": [
  {
   "cell_type": "code",
   "execution_count": null,
   "metadata": {},
   "outputs": [],
   "source": [
    "from item import Item\n",
    "from bin import Bin\n",
    "from packer import *\n",
    "from plot import Plot\n",
    "packer = Packer()\n",
    "plot = Plot()"
   ]
  },
  {
   "cell_type": "code",
   "execution_count": null,
   "metadata": {},
   "outputs": [],
   "source": [
    "packer.add_bin(Bin('B', 250, 170, 90))\n",
    "packer.add_bin(Bin('2B', 250, 170, 180))\n",
    "packer.add_bin(Bin('C', 300, 200, 110))\n",
    "packer.add_bin(Bin('2C', 300, 200, 220))\n",
    "packer.add_bin(Bin('D', 350, 220, 140))\n",
    "packer.add_bin(Bin('2D', 350, 220, 280))\n",
    "packer.add_bin(Bin('E', 400, 240, 170))\n",
    "# packer.add_bin(Bin('ฉ', 443, 270, 210))\n",
    "packer.add_bin(Bin('ฉ shops dimension', 453, 303, 220))\n",
    "###! WF99 11 items\n",
    "# packer.add_bin(Bin('ฉ WF99', 453, 303, 220))\n",
    "\n",
    "##! level3 12 items\n",
    "# packer.add_bin(Bin('ฉ level3', 453, 309, 220))\n",
    "\n",
    "packer.add_bin(Bin('H', 450, 400, 350))\n",
    "\n",
    "def addItem(level1:int,level2:int,level3:int,wf99:int):\n",
    "    for x in range(level1):\n",
    "        packer.add_item(Item('Level1', 180, 100, 85,'crimson'))\n",
    "\n",
    "    for x in range(level2):\n",
    "        packer.add_item(Item('Level2', 180, 100, 85,'orchid'))\n",
    "\n",
    "    for x in range(level3):\n",
    "        packer.add_item(Item('Level3', 182, 102, 105,'teal'))\n",
    "\n",
    "    for x in range(wf99):\n",
    "        packer.add_item(Item('WF99', 218, 82, 125,'darkorange'))\n",
    "\n",
    "addItem(0,0,0,0)\n",
    "\n",
    "packer.pack()\n",
    "\n"
   ]
  }
 ],
 "metadata": {
  "kernelspec": {
   "display_name": "Python 3",
   "language": "python",
   "name": "python3"
  },
  "language_info": {
   "codemirror_mode": {
    "name": "ipython",
    "version": 3
   },
   "file_extension": ".py",
   "mimetype": "text/x-python",
   "name": "python",
   "nbconvert_exporter": "python",
   "pygments_lexer": "ipython3",
   "version": "3.10.0"
  },
  "vscode": {
   "interpreter": {
    "hash": "afb734500600fd355917ca529030176ea0ca205570884b88f2f6f7d791fd3fbe"
   }
  }
 },
 "nbformat": 4,
 "nbformat_minor": 4
}
